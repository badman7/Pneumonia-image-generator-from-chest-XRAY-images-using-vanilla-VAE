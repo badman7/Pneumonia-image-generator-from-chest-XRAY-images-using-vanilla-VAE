{
  "nbformat": 4,
  "nbformat_minor": 0,
  "metadata": {
    "colab": {
      "name": "VAE.ipynb",
      "provenance": [],
      "collapsed_sections": []
    },
    "kernelspec": {
      "name": "python3",
      "display_name": "Python 3"
    },
    "accelerator": "GPU"
  },
  "cells": [
    {
      "cell_type": "code",
      "metadata": {
        "id": "p8PYaovndxOy",
        "colab_type": "code",
        "colab": {}
      },
      "source": [
        "from __future__ import print_function\n",
        "import matplotlib.pyplot as plt\n",
        "import matplotlib.gridspec as gridspec\n",
        "import torch\n",
        "import torch.utils.data\n",
        "from torch import nn, optim\n",
        "from torch.autograd import Variable\n",
        "from torch.nn import functional as F\n",
        "from torchvision import datasets, transforms\n",
        "from torchvision.utils import save_image\n",
        "from PIL import Image\n",
        "import numpy as np\n",
        "%matplotlib inline\n",
        "import matplotlib.pyplot as plt\n",
        "import torch\n",
        "from torch import nn\n",
        "from torch import optim\n",
        "from torchvision import datasets,transforms\n",
        "import torch.nn.functional as F\n",
        "import cv2\n",
        "from torch.utils.data import Dataset, DataLoader\n",
        "import os\n",
        "from PIL import Image\n",
        "import numpy as np"
      ],
      "execution_count": 0,
      "outputs": []
    },
    {
      "cell_type": "code",
      "metadata": {
        "id": "xrwJHFWhswgG",
        "colab_type": "code",
        "colab": {
          "resources": {
            "http://localhost:8080/nbextensions/google.colab/files.js": {
              "data": "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",
              "ok": true,
              "headers": [
                [
                  "content-type",
                  "application/javascript"
                ]
              ],
              "status": 200,
              "status_text": ""
            }
          },
          "base_uri": "https://localhost:8080/",
          "height": 125
        },
        "outputId": "d0b99956-65b5-4a62-a3dd-519b7b819e77"
      },
      "source": [
        "from google.colab import files\n",
        "files.upload()\n",
        "# Next, install the Kaggle API client.\n",
        "!pip install -q kaggle\n",
        "# The Kaggle API client expects this file to be in ~/.kaggle,\n",
        "# so move it there.\n",
        "!mkdir -p ~/.kaggle\n",
        "!cp kaggle.json ~/.kaggle/\n",
        "\n",
        "# This permissions change avoids a warning on Kaggle tool startup.\n",
        "!chmod 600 ~/.kaggle/kaggle.json\n",
        "!kaggle datasets download -d paultimothymooney/chest-xray-pneumonia"
      ],
      "execution_count": 2,
      "outputs": [
        {
          "output_type": "display_data",
          "data": {
            "text/html": [
              "\n",
              "     <input type=\"file\" id=\"files-87c87035-a931-4872-a241-c2c3f570b166\" name=\"files[]\" multiple disabled />\n",
              "     <output id=\"result-87c87035-a931-4872-a241-c2c3f570b166\">\n",
              "      Upload widget is only available when the cell has been executed in the\n",
              "      current browser session. Please rerun this cell to enable.\n",
              "      </output>\n",
              "      <script src=\"/nbextensions/google.colab/files.js\"></script> "
            ],
            "text/plain": [
              "<IPython.core.display.HTML object>"
            ]
          },
          "metadata": {
            "tags": []
          }
        },
        {
          "output_type": "stream",
          "text": [
            "Saving kaggle.json to kaggle.json\n",
            "Downloading chest-xray-pneumonia.zip to /content\n",
            " 99% 2.28G/2.29G [00:37<00:00, 68.3MB/s]\n",
            "100% 2.29G/2.29G [00:37<00:00, 65.4MB/s]\n"
          ],
          "name": "stdout"
        }
      ]
    },
    {
      "cell_type": "code",
      "metadata": {
        "id": "NEgK34apgDfo",
        "colab_type": "code",
        "colab": {}
      },
      "source": [
        "!unzip chest-xray-pneumonia.zip"
      ],
      "execution_count": 0,
      "outputs": []
    },
    {
      "cell_type": "code",
      "metadata": {
        "id": "iXbkAltps4za",
        "colab_type": "code",
        "colab": {}
      },
      "source": [
        "import os\n",
        "imagefiles=[]\n",
        "labels=[]\n",
        "for folder in os.listdir('/content/chest_xray/chest_xray/train'):\n",
        "  path=os.path.join('/content/chest_xray/chest_xray/train',folder)\n",
        "  for images in os.listdir(path):\n",
        "    imagefiles.append(os.path.join(path,images))\n",
        "    labels.append(folder)\n",
        "testimages=[]\n",
        "testlabel=[]\n",
        "for folder in os.listdir('/content/chest_xray/chest_xray/test'):\n",
        "  path=os.path.join('/content/chest_xray/chest_xray/test',folder)\n",
        "  for images in os.listdir(path):\n",
        "    testimages.append(os.path.join(path,images))\n",
        "    testlabel.append(folder)\n",
        "enc={}\n",
        "for i,label in enumerate(os.listdir('/content/chest_xray/chest_xray/train')):\n",
        "  enc[label]=i"
      ],
      "execution_count": 0,
      "outputs": []
    },
    {
      "cell_type": "code",
      "metadata": {
        "id": "2NjF3OWIwIbf",
        "colab_type": "code",
        "colab": {}
      },
      "source": [
        "labels[:10]"
      ],
      "execution_count": 0,
      "outputs": []
    },
    {
      "cell_type": "code",
      "metadata": {
        "id": "RAYktpDBuFa0",
        "colab_type": "code",
        "colab": {}
      },
      "source": [
        "os.listdir('/content/chest_xray/chest_xray/train')\n",
        "os.remove('/content/chest_xray/chest_xray/test/.DS_Store')\n",
        "os.remove('/content/chest_xray/chest_xray/train/.DS_Store')\n",
        "os.remove('/content/chest_xray/chest_xray/train/PNEUMONIA/.DS_Store')\n",
        "os.remove('/content/chest_xray/chest_xray/train/NORMAL/.DS_Store')"
      ],
      "execution_count": 0,
      "outputs": []
    },
    {
      "cell_type": "code",
      "metadata": {
        "id": "c-SjVwd_uHYE",
        "colab_type": "code",
        "colab": {}
      },
      "source": [
        "os.remove('/content/chest_xray/chest_xray/train/PNEUMONIA/.DS_Store')"
      ],
      "execution_count": 0,
      "outputs": []
    },
    {
      "cell_type": "code",
      "metadata": {
        "id": "gCYClVxEs7tM",
        "colab_type": "code",
        "colab": {}
      },
      "source": [
        "class Data(Dataset):\n",
        "  def __init__(self,imagefiles,labels,testimages,testlabel,mode,enc=None,transform=None):\n",
        "    self.imagefiles=imagefiles\n",
        "    self.labels=labels\n",
        "    self.testimages=testimages\n",
        "    self.testlabel=testlabel\n",
        "    self.mode=mode\n",
        "    self.transform=transform\n",
        "    self.enc=enc\n",
        "  def __getitem__(self,idx):\n",
        "    if self.mode=='train':\n",
        "      image=Image.open(self.imagefiles[idx])\n",
        "      image=np.asarray(image)\n",
        "      #image = np.fromstring(image.tobytes(), dtype=np.uint8)\n",
        "      #image = image.reshape((image.size[1], image.size[0], 1)) \n",
        "      image=torch.from_numpy(image)\n",
        "      label=self.labels[idx]\n",
        "      if self.transform:\n",
        "        image=self.transform(image)\n",
        "      return image,enc[label]\n",
        "    if self.mode=='test':\n",
        "      image=Image.open(self.testimages[idx])\n",
        "      image=np.asarray(image)\n",
        "     # image = np.fromstring(image.tobytes(), dtype=np.uint8)\n",
        "      #image = image.reshape((image.size[1], image.size[0], 1)) \n",
        "      image=torch.from_numpy(image)\n",
        "      label=self.testlabel[idx]\n",
        "      if self.transform:\n",
        "        image=self.transform(image)\n",
        "      return image,enc[label]\n",
        "  def __len__(self):\n",
        "    if self.mode=='train':\n",
        "      return len(self.imagefiles)\n",
        "    if self.mode=='test':\n",
        "      return len(self.testimages)\n",
        "    \n"
      ],
      "execution_count": 0,
      "outputs": []
    },
    {
      "cell_type": "code",
      "metadata": {
        "id": "SpJcKJZAs-3J",
        "colab_type": "code",
        "colab": {}
      },
      "source": [
        "transform=transforms.Compose([\n",
        "                              transforms.ToPILImage(),\n",
        "                              transforms.Grayscale(num_output_channels=1),\n",
        "                              transforms.Resize((100,100)),\n",
        "                              transforms.RandomHorizontalFlip(p=0.5),\n",
        "                              transforms.ToTensor(),\n",
        "                              transforms.Normalize((0.5,),(0.5,))\n",
        "])"
      ],
      "execution_count": 0,
      "outputs": []
    },
    {
      "cell_type": "code",
      "metadata": {
        "id": "B-5wCVAktBwZ",
        "colab_type": "code",
        "colab": {}
      },
      "source": [
        "mode1='train'\n",
        "trainset=Data(imagefiles,labels,testimages,testlabel,mode1,enc,transform)"
      ],
      "execution_count": 0,
      "outputs": []
    },
    {
      "cell_type": "code",
      "metadata": {
        "id": "iuR3Bp_ltEG-",
        "colab_type": "code",
        "colab": {}
      },
      "source": [
        "trainloader=torch.utils.data.DataLoader(trainset,batch_size=5,shuffle=True)"
      ],
      "execution_count": 0,
      "outputs": []
    },
    {
      "cell_type": "code",
      "metadata": {
        "id": "t4RrCuMPtnH5",
        "colab_type": "code",
        "colab": {}
      },
      "source": [
        "for img,label in trainloader:\n",
        "  print(img.shape)"
      ],
      "execution_count": 0,
      "outputs": []
    },
    {
      "cell_type": "code",
      "metadata": {
        "id": "LpT4ZYfFjDOQ",
        "colab_type": "code",
        "colab": {
          "base_uri": "https://localhost:8080/",
          "height": 154
        },
        "outputId": "56e3044f-9f0a-4956-cc46-033fc53d34e2"
      },
      "source": [
        "import torchvision\n",
        "def imshow(img):\n",
        "    img = img / 2 + 0.5\n",
        "    npimg = img.numpy()\n",
        "    plt.imshow(np.transpose(npimg, (1,2,0)))\n",
        "import matplotlib.pyplot as plt\n",
        "img,lab=next(iter(trainloader))\n",
        "x=torchvision.utils.make_grid(img)\n",
        "imshow(x)\n",
        "print(lab.shape)\n",
        "img.shape"
      ],
      "execution_count": 9,
      "outputs": [
        {
          "output_type": "stream",
          "text": [
            "torch.Size([5])\n"
          ],
          "name": "stdout"
        },
        {
          "output_type": "execute_result",
          "data": {
            "text/plain": [
              "torch.Size([5, 1, 100, 100])"
            ]
          },
          "metadata": {
            "tags": []
          },
          "execution_count": 9
        },
        {
          "output_type": "display_data",
          "data": {
            "image/png": "[encoded data removed]",
            "text/plain": [
              "<Figure size 432x288 with 1 Axes>"
            ]
          },
          "metadata": {
            "tags": []
          }
        }
      ]
    },
    {
      "cell_type": "code",
      "metadata": {
        "id": "GVH76xtf13It",
        "colab_type": "code",
        "colab": {}
      },
      "source": [
        "mode2='test'\n",
        "testset=Data(imagefiles,labels,testimages,testlabel,mode2,enc,transform)\n",
        "testloader=torch.utils.data.DataLoader(testset,batch_size=5,shuffle=False)"
      ],
      "execution_count": 0,
      "outputs": []
    },
    {
      "cell_type": "code",
      "metadata": {
        "id": "KiuU_XPedvG1",
        "colab_type": "code",
        "colab": {}
      },
      "source": [
        "for img,label in testloader:\n",
        "  print(img.shape)"
      ],
      "execution_count": 0,
      "outputs": []
    },
    {
      "cell_type": "code",
      "metadata": {
        "id": "VltCl4PaNYR9",
        "colab_type": "code",
        "colab": {
          "base_uri": "https://localhost:8080/",
          "height": 154
        },
        "outputId": "819393eb-ca01-4cea-a7d2-8eac6b7e4af6"
      },
      "source": [
        "import torchvision\n",
        "def imshow(img):\n",
        "    img = img / 2 + 0.5\n",
        "    npimg = img.numpy()\n",
        "    plt.imshow(np.transpose(npimg, (1,2,0)))\n",
        "import matplotlib.pyplot as plt\n",
        "img,lab=next(iter(testloader))\n",
        "x=torchvision.utils.make_grid(img)\n",
        "imshow(x)\n",
        "print(lab.shape)\n",
        "img.shape"
      ],
      "execution_count": 11,
      "outputs": [
        {
          "output_type": "stream",
          "text": [
            "torch.Size([5])\n"
          ],
          "name": "stdout"
        },
        {
          "output_type": "execute_result",
          "data": {
            "text/plain": [
              "torch.Size([5, 1, 100, 100])"
            ]
          },
          "metadata": {
            "tags": []
          },
          "execution_count": 11
        },
        {
          "output_type": "display_data",
          "data": {
            "image/png": "[encoded data removed]",
            "text/plain": [
              "<Figure size 432x288 with 1 Axes>"
            ]
          },
          "metadata": {
            "tags": []
          }
        }
      ]
    },
    {
      "cell_type": "code",
      "metadata": {
        "id": "2LGO3EZoRJPr",
        "colab_type": "code",
        "colab": {}
      },
      "source": [
        "class Encoder(nn.Module):\n",
        "        ''' This the encoder part of VAE\n",
        "\n",
        "        '''\n",
        "        def __init__(self, input_dim, hidden_dim, z_dim):\n",
        "            '''\n",
        "            Args:\n",
        "                input_dim: A integer indicating the size of input (in case of MNIST 28 * 28).\n",
        "                hidden_dim: A integer indicating the size of hidden dimension.\n",
        "                z_dim: A integer indicating the latent dimension.\n",
        "            '''\n",
        "            super().__init__()\n",
        "\n",
        "            self.linear = nn.Linear(input_dim, hidden_dim)\n",
        "            self.mu = nn.Linear(hidden_dim, z_dim)\n",
        "            self.var = nn.Linear(hidden_dim, z_dim)\n",
        "\n",
        "        def forward(self, x):\n",
        "            # x is of shape [batch_size, input_dim]\n",
        "\n",
        "            hidden = F.relu(self.linear(x))\n",
        "            # hidden is of shape [batch_size, hidden_dim]\n",
        "            z_mu = self.mu(hidden)\n",
        "            # z_mu is of shape [batch_size, latent_dim]\n",
        "            z_var = self.var(hidden)\n",
        "            # z_var is of shape [batch_size, latent_dim]\n",
        "\n",
        "            return z_mu, z_var"
      ],
      "execution_count": 0,
      "outputs": []
    },
    {
      "cell_type": "code",
      "metadata": {
        "id": "iJSyajC6RS7e",
        "colab_type": "code",
        "colab": {}
      },
      "source": [
        "class Decoder(nn.Module):\n",
        "        ''' This the decoder part of VAE\n",
        "\n",
        "        '''\n",
        "        def __init__(self, z_dim, hidden_dim, output_dim):\n",
        "            '''\n",
        "            Args:\n",
        "                z_dim: A integer indicating the latent size.\n",
        "                hidden_dim: A integer indicating the size of hidden dimension.\n",
        "                output_dim: A integer indicating the output dimension (in case of MNIST it is 28 * 28)\n",
        "            '''\n",
        "            super().__init__()\n",
        "\n",
        "            self.linear = nn.Linear(z_dim, hidden_dim)\n",
        "            self.out = nn.Linear(hidden_dim, output_dim)\n",
        "\n",
        "        def forward(self, x):\n",
        "            # x is of shape [batch_size, latent_dim]\n",
        "\n",
        "            hidden = F.relu(self.linear(x))\n",
        "            # hidden is of shape [batch_size, hidden_dim]\n",
        "\n",
        "            predicted = torch.sigmoid(self.out(hidden))\n",
        "            # predicted is of shape [batch_size, output_dim]\n",
        "\n",
        "            return predicted"
      ],
      "execution_count": 0,
      "outputs": []
    },
    {
      "cell_type": "code",
      "metadata": {
        "id": "KN0pVot6RV4X",
        "colab_type": "code",
        "colab": {}
      },
      "source": [
        "class VAE(nn.Module):\n",
        "        ''' This the VAE, which takes a encoder and decoder.\n",
        "\n",
        "        '''\n",
        "        def __init__(self, enc, dec):\n",
        "            super().__init__()\n",
        "\n",
        "            self.enc = enc\n",
        "            self.dec = dec\n",
        "\n",
        "        def forward(self, x):\n",
        "            # encode\n",
        "            z_mu, z_var = self.enc(x)\n",
        "\n",
        "            # sample from the distribution having latent parameters z_mu, z_var\n",
        "            # reparameterize\n",
        "            std = torch.exp(z_var / 2)\n",
        "            eps = torch.randn_like(std)\n",
        "            x_sample = eps.mul(std).add_(z_mu)\n",
        "\n",
        "            # decode\n",
        "            predicted = self.dec(x_sample)\n",
        "            return predicted, z_mu, z_var"
      ],
      "execution_count": 0,
      "outputs": []
    },
    {
      "cell_type": "code",
      "metadata": {
        "id": "iLonP9JwRcFn",
        "colab_type": "code",
        "colab": {}
      },
      "source": [
        "device = torch.device('cuda' if torch.cuda.is_available() else 'cpu')\n",
        "encoder = Encoder(10000, 256, 20)\n",
        "\n",
        "    # decoder\n",
        "decoder = Decoder(20, 256, 10000)\n",
        "\n",
        "    # vae\n",
        "model = VAE(encoder, decoder)\n",
        "\n",
        "    # optimizer\n",
        "optimizer = optim.Adam(model.parameters(), lr=0.003)"
      ],
      "execution_count": 0,
      "outputs": []
    },
    {
      "cell_type": "code",
      "metadata": {
        "id": "7jKnPspVR2Vo",
        "colab_type": "code",
        "colab": {}
      },
      "source": [
        "best_test_loss = float('inf')\n",
        "patience_counter=0\n",
        "for epochs in range(0,50):\n",
        "  train_loss=0\n",
        "  test_loss = 0\n",
        "  print('Started accessing trainloader')\n",
        "  for img,lab in trainloader:\n",
        "    img=img.view(-1,10000)\n",
        "    img=F.softmax(img)\n",
        "    #img=img.to(device)\n",
        "    optimizer.zero_grad()\n",
        "# forward pass\n",
        "    img_sample, z_mu, z_var = model(img)\n",
        "   # print(f'before softmax : {img_sample}')\n",
        "    #img_sample=F.softmax(img_sample)\n",
        "   # print(f'after softmax : {img_sample}')\n",
        "    recon_loss = F.binary_cross_entropy(img_sample, img, size_average=False)\n",
        "# kl divergence loss\n",
        "    kl_loss = 0.5 * torch.sum(torch.exp(z_var) + z_mu**2 - 1.0 - z_var)\n",
        "# total loss\n",
        "    loss = recon_loss + kl_loss\n",
        "    loss.backward()\n",
        "    train_loss += loss.item()\n",
        "    optimizer.step()\n",
        "  else:\n",
        "    with torch.no_grad():\n",
        "      print('accessing test loader')\n",
        "      for img,lab in testloader:\n",
        "        # reshape the data\n",
        "        img = img.view(-1, 10000)\n",
        "        img=F.softmax(img)\n",
        "       # img=img.to(device)\n",
        "        # forward pass\n",
        "        img_sample, z_mu, z_var = model(img)\n",
        "        #img_sample=F.softmax(img_sample)\n",
        "        # reconstruction loss\n",
        "        recon_loss = F.binary_cross_entropy(img_sample, img, size_average=False)\n",
        "        # kl divergence loss\n",
        "        kl_loss = 0.5 * torch.sum(torch.exp(z_var) + z_mu**2 - 1.0 - z_var)\n",
        "        # total loss\n",
        "        loss = recon_loss + kl_loss\n",
        "        test_loss += loss.item()\n",
        "\n",
        "  train_loss /= len(trainloader)\n",
        "  test_loss /= len(testloader)\n",
        "  print(f'Epoch {epochs}, Train Loss: {train_loss:.2f}, Test Loss: {test_loss:.2f}')\n",
        "  if best_test_loss > test_loss:\n",
        "    best_test_loss = test_loss\n",
        "    patience_counter = 1\n",
        "  else:\n",
        "    patience_counter += 1\n",
        "  if patience_counter > 3:\n",
        "    break\n",
        "\n",
        "    \n"
      ],
      "execution_count": 0,
      "outputs": []
    },
    {
      "cell_type": "code",
      "metadata": {
        "id": "21ZRDXQJaf9f",
        "colab_type": "code",
        "colab": {
          "base_uri": "https://localhost:8080/",
          "height": 319
        },
        "outputId": "add401c3-b877-449e-f426-efb96487896a"
      },
      "source": [
        "z = torch.randn(1, 20)\n",
        "# run only the decoder\n",
        "reconstructed_img = model.dec(z)\n",
        "img = reconstructed_img.view(100, 100).data\n",
        "print(z.shape)\n",
        "print(img.shape)\n",
        "plt.imshow(img,cmap='gray')"
      ],
      "execution_count": 60,
      "outputs": [
        {
          "output_type": "stream",
          "text": [
            "torch.Size([1, 20])\n",
            "torch.Size([100, 100])\n"
          ],
          "name": "stdout"
        },
        {
          "output_type": "execute_result",
          "data": {
            "text/plain": [
              "<matplotlib.image.AxesImage at 0x7f0be5f1d358>"
            ]
          },
          "metadata": {
            "tags": []
          },
          "execution_count": 60
        },
        {
          "output_type": "display_data",
          "data": {
            "image/png": "[encoded data removed]",
            "text/plain": [
              "<Figure size 432x288 with 1 Axes>"
            ]
          },
          "metadata": {
            "tags": []
          }
        }
      ]
    }
  ]
}